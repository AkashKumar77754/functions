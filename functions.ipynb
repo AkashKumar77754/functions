{
  "nbformat": 4,
  "nbformat_minor": 0,
  "metadata": {
    "colab": {
      "provenance": []
    },
    "kernelspec": {
      "name": "python3",
      "display_name": "Python 3"
    },
    "language_info": {
      "name": "python"
    }
  },
  "cells": [
    {
      "cell_type": "markdown",
      "source": [
        "1. What is the difference between a function and a method in Python?\n",
        "  - A function is a block of code which is defined independently, while method is associated with an object of a class.\n",
        "\n",
        "2. Explain the concept of function arguments and parameters in Python.\n",
        "  - Arguments are the actual value that you pass to the function when you call it and parameters are variable listed inside the parentheses in the function.\n",
        "\n",
        "3. What are the different ways to define and call a function in Python?\n",
        "  - \"def\", \"Lambda\", \"Generators\" are some of the methods to define a function in python, def and lambda uses assigned variable name to call a function while generator uses yield keyword.\n",
        "\n",
        "4. What is the purpose of the `return` statement in a Python function?\n",
        "  - The return statements is a python function used to end the execution of the function and to send a value back to the caller of the function\n",
        "\n",
        "5. What are iterators in Python and how do they differ from iterables?\n",
        "  - An iterator is an object that allow us to transverse through an iterable by using the next() method to get each item. And an iterable is an object we can loop over. So iterable is like a recipe and the iterator is like a cook following steps.\n",
        "\n",
        "6. Explain the concept of generators in Python and how they are defined.\n",
        "  - Generators allow us to declare a function that behave like an iterator, producing a sequence of value one at a time. We define a generator like a function but instead of return we use yield.\n",
        "\n",
        "7. What are the advantages of using generators over regular functions?\n",
        "  - Generator offer memory efficiency by producing items one at a time, unlike function that creates an entire list. It computes values only when needed.\n",
        "\n",
        "8. What is a lambda function in Python and when is it typically used?\n",
        "  - Lambda function can take any number of arguments but can only have one expression, the result of this expression is what the function returns. It is typically used when you need a simple function for a short period.\n",
        "\n",
        "9. Explain the purpose and usage of the `map()` function in Python.\n",
        "  - Map() function is used to apply a given function to each item of an iterable\n",
        "  and returns an iterator that yield the result. It's purpose is to avoid explicit loops when you want to perform the same operation on every element of sequence.\n",
        "\n",
        "10. What is the difference between `map()`, `reduce()`, and `filter()` functions in Python?\n",
        "  - Map() function transform each element in an iterable using a given finction, returning an iterator of the result.\n",
        "  - Filter() function selects items from an iterable based on a function that returns true, yielding an iterator of filtered item.\n",
        "  - reduce() function combines items in an iterable to a single cumulative result by applying a function sequentially.\n",
        "\n",
        "11. Using pen & Paper write the internal mechanism for sum operation using  reduce function on this given list:[47,11,42,13].  \n",
        "\n",
        "/content/6141016872468989307.jpg\n",
        "  "
      ],
      "metadata": {
        "id": "0EjpoPeE6w1f"
      }
    },
    {
      "cell_type": "code",
      "source": [
        "#1. Write a Python function that takes a list of numbers as input and returns the sum of all even numbers in the list.\n",
        "\n",
        "def sum_even_numbers(numbers):\n",
        "  even_sum = 0\n",
        "  for number in numbers:\n",
        "    if number % 2 == 0:\n",
        "      even_sum += number\n",
        "  return even_sum\n",
        "\n",
        "input_string = input(\"Enter a list of numbers separated by spaces: \")\n",
        "\n",
        "my_list = [int(num) for num in input_string.split()]\n",
        "\n",
        "even_sum = sum_even_numbers(my_list)\n",
        "print(f\"The sum of even numbers in the list is: {even_sum}\")"
      ],
      "metadata": {
        "colab": {
          "base_uri": "https://localhost:8080/"
        },
        "id": "ANev1FaJHHZJ",
        "outputId": "9f515859-9404-4328-dba1-c5f56f0a0f40"
      },
      "execution_count": 5,
      "outputs": [
        {
          "output_type": "stream",
          "name": "stdout",
          "text": [
            "Enter a list of numbers separated by spaces: 2 4 5\n",
            "The sum of even numbers in the list is: 6\n"
          ]
        }
      ]
    },
    {
      "cell_type": "code",
      "source": [
        "#2. Create a Python function that accepts a string and returns the reverse of that string.\n",
        "\n",
        "def reverse_string(input_string):\n",
        "  return input_string[::-1]\n",
        "\n",
        "my_string = \"hello\"\n",
        "reversed_string = reverse_string(my_string)\n",
        "print(f\"The original string is: {my_string}\")\n",
        "print(f\"The reversed string is: {reversed_string}\")"
      ],
      "metadata": {
        "colab": {
          "base_uri": "https://localhost:8080/"
        },
        "id": "9PgpyQOxHv5q",
        "outputId": "4848a286-9ede-4d1b-9a73-137a4d669721"
      },
      "execution_count": 7,
      "outputs": [
        {
          "output_type": "stream",
          "name": "stdout",
          "text": [
            "The original string is: hello\n",
            "The reversed string is: olleh\n"
          ]
        }
      ]
    },
    {
      "cell_type": "code",
      "source": [
        "#3. Implement a Python function that takes a list of integers and returns a new list containing the squares of each number.\n",
        "\n",
        "def square_list(numbers):\n",
        "  squared_numbers = []\n",
        "  for number in numbers:\n",
        "    squared_numbers.append(number ** 2)\n",
        "  return squared_numbers\n",
        "\n",
        "my_numbers = [1, 2, 3, 4, 5]\n",
        "squared_list = square_list(my_numbers)\n",
        "print(f\"The original list is: {my_numbers}\")\n",
        "print(f\"The list of squared numbers is: {squared_list}\")"
      ],
      "metadata": {
        "id": "rkZv0xDjIYAr",
        "colab": {
          "base_uri": "https://localhost:8080/"
        },
        "outputId": "ca6769f7-e1ef-48fd-aaef-75de24aa0fbe"
      },
      "execution_count": 10,
      "outputs": [
        {
          "output_type": "stream",
          "name": "stdout",
          "text": [
            "The original list is: [1, 2, 3, 4, 5]\n",
            "The list of squared numbers is: [1, 4, 9, 16, 25]\n"
          ]
        }
      ]
    },
    {
      "cell_type": "code",
      "source": [
        "#4. Write a Python function that checks if a given number is prime or not from 1 to 200.\n",
        "\n",
        "def is_prime_easiest(number):\n",
        "  if number <= 1:\n",
        "    return False\n",
        "  for i in range(2, number):\n",
        "    if number % i == 0:\n",
        "      return False\n",
        "  return True\n",
        "\n",
        "def print_primes_up_to_20():\n",
        "  for num in range(1, 201):\n",
        "    if is_prime_easiest(num):\n",
        "      print(f\"{num} is prime.\")\n",
        "\n",
        "print(\"Prime numbers up to 20 are:\")\n",
        "print_primes_up_to_20()"
      ],
      "metadata": {
        "id": "y3_QRtYlIpZT",
        "colab": {
          "base_uri": "https://localhost:8080/"
        },
        "outputId": "97271715-5bca-44f5-dd9d-335449bd4a35"
      },
      "execution_count": 12,
      "outputs": [
        {
          "output_type": "stream",
          "name": "stdout",
          "text": [
            "Prime numbers up to 20 are:\n",
            "2 is prime.\n",
            "3 is prime.\n",
            "5 is prime.\n",
            "7 is prime.\n",
            "11 is prime.\n",
            "13 is prime.\n",
            "17 is prime.\n",
            "19 is prime.\n",
            "23 is prime.\n",
            "29 is prime.\n",
            "31 is prime.\n",
            "37 is prime.\n",
            "41 is prime.\n",
            "43 is prime.\n",
            "47 is prime.\n",
            "53 is prime.\n",
            "59 is prime.\n",
            "61 is prime.\n",
            "67 is prime.\n",
            "71 is prime.\n",
            "73 is prime.\n",
            "79 is prime.\n",
            "83 is prime.\n",
            "89 is prime.\n",
            "97 is prime.\n",
            "101 is prime.\n",
            "103 is prime.\n",
            "107 is prime.\n",
            "109 is prime.\n",
            "113 is prime.\n",
            "127 is prime.\n",
            "131 is prime.\n",
            "137 is prime.\n",
            "139 is prime.\n",
            "149 is prime.\n",
            "151 is prime.\n",
            "157 is prime.\n",
            "163 is prime.\n",
            "167 is prime.\n",
            "173 is prime.\n",
            "179 is prime.\n",
            "181 is prime.\n",
            "191 is prime.\n",
            "193 is prime.\n",
            "197 is prime.\n",
            "199 is prime.\n"
          ]
        }
      ]
    },
    {
      "cell_type": "code",
      "source": [
        "#5. Create an iterator class in Python that generates the Fibonacci sequence up to a specified number of terms.\n",
        "\n",
        "def fibonacci_sequence(n):\n",
        "  if n <= 0:\n",
        "    return []\n",
        "  elif n == 1:\n",
        "    return [0]\n",
        "  else:\n",
        "    list_fib = [0, 1]\n",
        "    while len(list_fib) < n:\n",
        "      next_fib = list_fib[-1] + list_fib[-2]\n",
        "      list_fib.append(next_fib)\n",
        "    return list_fib\n",
        "\n",
        "first_ten = fibonacci_sequence(10)\n",
        "print(first_ten)\n"
      ],
      "metadata": {
        "id": "WNB6SxqXJAdI",
        "colab": {
          "base_uri": "https://localhost:8080/"
        },
        "outputId": "08ea9619-1412-45b6-cf5c-f4af89376581"
      },
      "execution_count": 23,
      "outputs": [
        {
          "output_type": "stream",
          "name": "stdout",
          "text": [
            "[0, 1, 1, 2, 3, 5, 8, 13, 21, 34]\n"
          ]
        }
      ]
    },
    {
      "cell_type": "code",
      "source": [
        "#6. Write a generator function in Python that yields the powers of 2 up to a given exponent.\n",
        "\n",
        "def power_of_two_generator(up_to):\n",
        "  power = 1\n",
        "  for _ in range(up_to + 1):\n",
        "    yield power\n",
        "    power *= 2\n",
        "\n",
        "print(\"Powers of 2 up to 2^3:\")\n",
        "for num in power_of_two_generator(3):\n",
        "  print(num)"
      ],
      "metadata": {
        "id": "kbE-_lGBJR5E",
        "colab": {
          "base_uri": "https://localhost:8080/"
        },
        "outputId": "422650c9-4501-448d-e9dc-d7dcced088ed"
      },
      "execution_count": 24,
      "outputs": [
        {
          "output_type": "stream",
          "name": "stdout",
          "text": [
            "Powers of 2 up to 2^3:\n",
            "1\n",
            "2\n",
            "4\n",
            "8\n"
          ]
        }
      ]
    },
    {
      "cell_type": "code",
      "source": [
        "#7. Implement a generator function that reads a file line by line and yields each line as a string.\n",
        "\n",
        "def read_lines(filename):\n",
        "  try:\n",
        "    with open(filename, 'r') as f:\n",
        "      for line in f:\n",
        "        yield line.strip()\n",
        "  except FileNotFoundError:\n",
        "    print(f\"Can't find the file: {filename}\")\n",
        "\n",
        "with open(\"simple.txt\", \"w\") as f:\n",
        "  f.write(\"First line\\n\")\n",
        "  f.write(\"Second line  \\n\")\n",
        "  f.write(\"Third line\\n\")\n",
        "\n",
        "for one_line in read_lines(\"simple.txt\"):\n",
        "  print(f\"Line is: '{one_line}'\")"
      ],
      "metadata": {
        "id": "tM9_IBmMJZSG",
        "colab": {
          "base_uri": "https://localhost:8080/"
        },
        "outputId": "00645a7d-8dbe-4d2c-abd1-e01a01bd4b80"
      },
      "execution_count": 25,
      "outputs": [
        {
          "output_type": "stream",
          "name": "stdout",
          "text": [
            "Line is: 'First line'\n",
            "Line is: 'Second line'\n",
            "Line is: 'Third line'\n"
          ]
        }
      ]
    },
    {
      "cell_type": "code",
      "source": [
        "#8. Use a lambda function in Python to sort a list of tuples based on the second element of each tuple.\n",
        "\n",
        "my_list_of_tuples = [('apple', 5), ('banana', 2), ('cherry', 8), ('date', 1)]\n",
        "\n",
        "sorted_list = sorted(my_list_of_tuples, key=lambda item: item[1])\n",
        "\n",
        "print(f\"Original list: {my_list_of_tuples}\")\n",
        "print(f\"Sorted list (by second element): {sorted_list}\")"
      ],
      "metadata": {
        "id": "diIb6W1UJfFF",
        "colab": {
          "base_uri": "https://localhost:8080/"
        },
        "outputId": "b05c91cd-baf3-4644-84ef-adc4f1fb45e3"
      },
      "execution_count": 19,
      "outputs": [
        {
          "output_type": "stream",
          "name": "stdout",
          "text": [
            "Original list: [('apple', 5), ('banana', 2), ('cherry', 8), ('date', 1)]\n",
            "Sorted list (by second element): [('date', 1), ('banana', 2), ('apple', 5), ('cherry', 8)]\n"
          ]
        }
      ]
    },
    {
      "cell_type": "code",
      "source": [
        "#9. Write a Python program that uses `map()` to convert a list of temperatures from Celsius to Fahrenheit.\n",
        "\n",
        "def celsius_to_fahrenheit(celsius):\n",
        "  return (celsius * 9/5) + 32\n",
        "\n",
        "celsius_temperatures = [0, 25, 100, -10, 37]\n",
        "\n",
        "fahrenheit_temperatures = list(map(celsius_to_fahrenheit, celsius_temperatures))\n",
        "\n",
        "print(f\"Celsius temperatures: {celsius_temperatures}\")\n",
        "print(f\"Fahrenheit temperatures: {fahrenheit_temperatures}\")"
      ],
      "metadata": {
        "id": "hR8bay_AJk-g",
        "colab": {
          "base_uri": "https://localhost:8080/"
        },
        "outputId": "fd40798e-01a6-4113-8742-4fda50988379"
      },
      "execution_count": 20,
      "outputs": [
        {
          "output_type": "stream",
          "name": "stdout",
          "text": [
            "Celsius temperatures: [0, 25, 100, -10, 37]\n",
            "Fahrenheit temperatures: [32.0, 77.0, 212.0, 14.0, 98.6]\n"
          ]
        }
      ]
    },
    {
      "cell_type": "code",
      "source": [
        "#10. Create a Python program that uses `filter()` to remove all the vowels from a given string.\n",
        "\n",
        "def is_not_vowel(char):\n",
        "  vowels = \"aeiouAEIOU\"\n",
        "  return char not in vowels\n",
        "\n",
        "input_string = \"Hello World! How are you?\"\n",
        "\n",
        "consonants_and_others = \"\".join(filter(is_not_vowel, input_string))\n",
        "\n",
        "print(f\"Original string: {input_string}\")\n",
        "print(f\"String without vowels: {consonants_and_others}\")"
      ],
      "metadata": {
        "id": "wnyAW5zuJmtC",
        "colab": {
          "base_uri": "https://localhost:8080/"
        },
        "outputId": "eabe0a14-a929-417b-c0b1-116eb2312604"
      },
      "execution_count": 26,
      "outputs": [
        {
          "output_type": "stream",
          "name": "stdout",
          "text": [
            "Original string: Hello World! How are you?\n",
            "String without vowels: Hll Wrld! Hw r y?\n"
          ]
        }
      ]
    },
    {
      "cell_type": "code",
      "source": [
        "'''11) Imagine an accounting routine used in a book shop. It works on a list with sublists, which look like this:\n",
        "\n",
        "Write a Python program, which returns a list with 2-tuples. Each tuple consists of the order number and the\n",
        "product of the price per item and the quantity. The product should be increased by 10,- € if the value of the\n",
        "order is smaller than 100,00 €.\n",
        "\n",
        "Write a Python program using lambda and map.'''\n",
        "\n",
        "def calculate_order_summary(orders):\n",
        "    calculate_total = lambda price, quantity: price * quantity\n",
        "    apply_surcharge = lambda total: total + 10 if total < 100 else total\n",
        "\n",
        "    order_summary = list(map(lambda order: (order[0], apply_surcharge(calculate_total(order[1], order[2]))), orders))\n",
        "    return order_summary\n",
        "\n",
        "orders_data = [\n",
        "    (34587, 40.95, 4),\n",
        "    (98762, 56.80, 5),\n",
        "    (77226, 32.95, 3),\n",
        "    (88112, 24.99, 3),\n",
        "]\n",
        "\n",
        "order_summary_list = calculate_order_summary(orders_data)\n",
        "print(order_summary_list)\n"
      ],
      "metadata": {
        "id": "FuRTFIlqJstN",
        "colab": {
          "base_uri": "https://localhost:8080/"
        },
        "outputId": "4db8fee2-7b6a-4565-febc-0a9e26b410dc"
      },
      "execution_count": 29,
      "outputs": [
        {
          "output_type": "stream",
          "name": "stdout",
          "text": [
            "[(34587, 163.8), (98762, 284.0), (77226, 108.85000000000001), (88112, 84.97)]\n"
          ]
        }
      ]
    }
  ]
}