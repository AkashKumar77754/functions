{
  "nbformat": 4,
  "nbformat_minor": 0,
  "metadata": {
    "colab": {
      "provenance": []
    },
    "kernelspec": {
      "name": "python3",
      "display_name": "Python 3"
    },
    "language_info": {
      "name": "python"
    }
  },
  "cells": [
    {
      "cell_type": "markdown",
      "source": [
        "1. What is Object-Oriented Programming (OOP)?\n",
        "  - Object oriented programming is based on the concept of \"objects\" which can obtain data, in the form of field and code, in the form of procedures.\n",
        "\n",
        "2. What is a class in OOP?\n",
        "  - A class in oops is a blueprint for creating objects. It defines the structure and behavior of object. It group related data and the functions that operates to that data.\n",
        "\n",
        "3. What is an object in OOP?\n",
        "  - An object is an tangible entity that has its own data and can perform actions as defined by its class. we can create many different objects from the same class, each with its own unique state.\n",
        "\n",
        "4. What is the difference between abstraction and encapsulation?\n",
        "  - Abstraction focuses on what an object does by hiding complex implementation details and showing only essential information. Encapsulation focuses on how an object manages its data by bundling data and methods and controlling access to protect data integrity. Abstraction simplifies the view, while encapsulation secures the internal state.\n",
        "\n",
        "5. What are dunder methods in Python?\n",
        "  - Dunder methods in Python are special methods with double underscores at the beginning and end of their names (e.g., __init__, __str__). They are implicitly called by Python to perform certain operations like object initialization, string representation, arithmetic operations, and comparisons.\n",
        "\n",
        "6. Explain the concept of inheritance in OOPS.\n",
        "  - Inheritance in OOP is a mechanism where a new class (derived or child class) can inherit properties and behaviors (attributes and methods) from an existing class (base or parent class). This promotes code reusability as the derived class can utilize the functionalities of the base class without rewriting them.\n",
        "\n",
        "7. What is polymorphism in OOPS?\n",
        "  - Polymorphism in OOP means \"many forms.\" It's the ability of different classes to respond to the same method call in their own specific way. This allows you to write code that can work with objects of different classes uniformly, without needing to know their exact type at compile time.\n",
        "\n",
        "8. How is encapsulation achieved in Python?\n",
        "  - Encapsulation in Python is primarily achieved through naming conventions and access modifiers (though less strict than in some other languages). Using a single leading underscore (_) for attributes suggests they are intended for internal use and should not be directly accessed from outside the class. Double leading underscores (__) trigger name mangling, making the attribute harder to access directly from outside.\n",
        "\n",
        "9. What is a constructor in Python?\n",
        "  - A constructor in Python is a special method named __init__. It is automatically called when an object of a class is created. The primary purpose of the constructor is to initialize the object's attributes.\n",
        "\n",
        "10. What are class and static methods in Python?\n",
        "  - Class methods in Python are bound to the class and not the instance of the class. They receive the class itself as the first argument and can access or modify class-level attributes. Static methods, on the other hand, are bound to the class but do not receive the instance or the class as an implicit first argument.\n",
        "\n",
        "11. What is method overloading in Python?\n",
        "  - Method overloading in Python doesn't work like having multiple separate functions with the same name. Instead, you usually write one function that can handle different situations by using optional arguments or by accepting a flexible number of arguments. It's like having a single tool that can do slightly different jobs depending on how you use it.\n",
        "\n",
        "12. What is method overriding in OOP?\n",
        "  - Method overriding in OOP happens when a subclass (child class) defines a method that has the same name and same parameters as a method in its superclass (parent class). When you call this method on an object of the subclass, the subclass's version of the method is executed instead of the superclass's version.\n",
        "\n",
        "13. What is a property decorator in Python?\n",
        "  - A property decorator in Python is a built-in decorator that allows you to define class methods that can be accessed like instance attributes (variables) instead of needing to call them as methods. It essentially turns a method into a \"getter\" for a hidden attribute.\n",
        "\n",
        "14. Why is polymorphism important in OOP?\n",
        "  - Polymorphism in OOP enhances code reusability by allowing a single interface to handle objects of different classes. It promotes extensibility as new classes can be added without altering existing code that uses the common interface. This leads to more flexible and maintainable systems, as different objects can respond uniquely to the same method call.\n",
        "\n",
        "15. What is an abstract class in Python?\n",
        "  - An abstract class in Python is like a blueprint for other classes. You can't create objects directly from an abstract class. Its main purpose is to define a common structure and sometimes provide partial implementation for its subclasses.\n",
        "\n",
        "16. What are the advantages of OOP?\n",
        "  - OOP makes code more organized by grouping data and functions into objects. It promotes reusability through inheritance, letting you build upon existing code. OOP makes complex problems easier to manage by breaking them down into smaller, interacting objects. It also makes code more flexible and easier to update because changes in one object are less likely to affect others.\n",
        "\n",
        "17. What is the difference between a class variable and an instance variable?\n",
        "  -  class variable belongs to the class itself and is shared by all instances of that class. Changes to a class variable affect all objects. An instance variable, on the other hand, belongs to a specific object (instance) of the class. Each instance can have its own unique value for its instance variables. Class variables are defined within the class but outside methods, while instance variables are typically defined within the __init__ method using self.\n",
        "\n",
        "18. What is multiple inheritance in Python?\n",
        "  - Multiple inheritance in Python allows a class to inherit attributes and methods from more than one parent class. This means a child class can gain functionalities from various independent classes.\n",
        "\n",
        "19. Explain the purpose of ‘’__str__’ and ‘__repr__’ ‘ methods in Python?\n",
        "  - oth __str__ and __repr__ are special methods used to get string representations of objects. __str__ aims to provide a human-readable and informal string, intended for end-users or logging. If __str__ is not defined, Python falls back to using __repr__. __repr__ aims to provide an unambiguous and developer-friendly string, ideally one that can be used to recreate the object (e.g., eval(repr(obj)) == obj). It's the default string representation if only __repr__ is defined.\n",
        "\n",
        "20. What is the significance of the ‘super()’ function in Python?\n",
        "  - The super() function in Python is primarily used to call methods from a parent class within a subclass. It provides a way to access and invoke inherited methods without explicitly naming the parent class, making the code more flexible and maintainable, especially in complex inheritance hierarchies.\n",
        "\n",
        "21. What is the significance of the __del__ method in Python?\n",
        "  - The __del__ method in Python, often referred to as a deleter, plays a role in cleaning up resources associated with an object when it's no longer in use. It is use when an object is garbage collected, which occurs after all references to that object have been removed.\n",
        "\n",
        "22. What is the difference between @staticmethod and @classmethod in Python?\n",
        "  - Both @staticmethod and @classmethod are decorators used to define methods within a class. A @staticmethod is essentially a regular function that happens to live inside a class; it doesn't receive the instance or the class as an implicit first argument. A @classmethod, on the other hand, receives the class itself as the first argument. This allows class methods to access and modify class-level attributes or call other class methods, making them useful for factory methods or operations related to the class itself rather than a specific instance.\n",
        "\n",
        "23. How does polymorphism work in Python with inheritance?\n",
        "  - In Python with inheritance, polymorphism means that a subclass can redefine (override) a method it inherited from its parent class. When we call this overridden method on an object of the subclass, Python will execute the subclass's specific version of the method, not the parent's.\n",
        "\n",
        "24. What is method chaining in Python OOPS?\n",
        "  - Method chaining in Python OOP is a technique where we call multiple methods on the same object in a sequence, one after the other, with each method call typically returning the same object instance.\n",
        "\n",
        "25. What is the purpose of the __call__ method in Python?\n",
        "  - The __call__ method in Python allows us to make instances of a class callable like regular functions. When we define __call__ within a class, we can then use an object of that class followed by parentheses () to execute the code defined inside the __call__ method. This is useful for creating objects that behave like functions, often used for implementing things like decorators or objects with a specific, function-like operation."
      ],
      "metadata": {
        "id": "sEbuu8Q79-XX"
      }
    },
    {
      "cell_type": "code",
      "source": [
        "#1 Create a parent class Animal with a method speak() that prints a generic message. Create a child class Dog that overrides the speak() method to print \"Bark!\".\n",
        "\n",
        "class Animal:\n",
        "    def speak(self):\n",
        "        print(\"Animal sound\")\n",
        "\n",
        "class Dog(Animal):\n",
        "    def speak(self):\n",
        "        print(\"Bark!\")\n"
      ],
      "metadata": {
        "id": "k5usUn6PFkbv"
      },
      "execution_count": 4,
      "outputs": []
    },
    {
      "cell_type": "code",
      "source": [
        "obj1 = Dog()\n",
        "obj1.speak()"
      ],
      "metadata": {
        "colab": {
          "base_uri": "https://localhost:8080/"
        },
        "id": "lOOHS-VAI2dl",
        "outputId": "ed07dd37-3f1d-4bd8-b154-9605bc1b7ff1"
      },
      "execution_count": 7,
      "outputs": [
        {
          "output_type": "stream",
          "name": "stdout",
          "text": [
            "Bark!\n"
          ]
        }
      ]
    },
    {
      "cell_type": "code",
      "source": [
        "#2 Write a program to create an abstract class Shape with a method area(). Derive classes Circle and Rectangle from it and implement the area() method in both.\n",
        "\n",
        "from abc import ABC, abstractmethod\n",
        "import math\n",
        "\n",
        "class Shape(ABC):\n",
        "  @abstractmethod\n",
        "  def area(self):\n",
        "    pass\n",
        "\n",
        "class Circle(Shape):\n",
        "  def __init__(self, radius):\n",
        "    self.radius = radius\n",
        "\n",
        "  def area(self):\n",
        "    return math.pi * self.radius**2\n",
        "\n",
        "class Rectangle(Shape):\n",
        "  def __init__(self, width, height):\n",
        "    self.width = width\n",
        "    self.height = height\n",
        "\n",
        "  def area(self):\n",
        "    return self.width * self.height\n",
        "\n",
        "circle = Circle(5)\n",
        "rectangle = Rectangle(4, 6)\n",
        "\n",
        "print(f\"Area of the circle: {circle.area()}\")\n",
        "print(f\"Area of the rectangle: {rectangle.area()}\")"
      ],
      "metadata": {
        "colab": {
          "base_uri": "https://localhost:8080/"
        },
        "id": "Qu5-hlp0JFTO",
        "outputId": "7cb9b83b-d3c9-4907-e664-c68205f817fb"
      },
      "execution_count": 12,
      "outputs": [
        {
          "output_type": "stream",
          "name": "stdout",
          "text": [
            "Area of the circle: 78.53981633974483\n",
            "Area of the rectangle: 24\n"
          ]
        }
      ]
    },
    {
      "cell_type": "code",
      "source": [
        "#3 Implement a multi-level inheritance scenario where a class Vehicle has an attribute type. Derive a class Car and further derive a class ElectricCar that adds a battery attribute.\n",
        "\n",
        "class Vehicle:\n",
        "  def __init__(self, type):\n",
        "    self.type = type\n",
        "\n",
        "class Car(Vehicle):\n",
        "    def __init__(self, type, brand):\n",
        "        super().__init__(type)\n",
        "        self.brand = brand\n",
        "\n",
        "class ElectricCar(Car):\n",
        "    def __init__(self, type, brand, battery_size):\n",
        "        super().__init__(type, brand)\n",
        "        self.battery_size = battery_size"
      ],
      "metadata": {
        "id": "O_5kF8OuJk_M"
      },
      "execution_count": 43,
      "outputs": []
    },
    {
      "cell_type": "code",
      "source": [
        "obj = ElectricCar(\"Car\", \"Tesla\", 75)\n",
        "obj.type"
      ],
      "metadata": {
        "colab": {
          "base_uri": "https://localhost:8080/",
          "height": 36
        },
        "id": "P5GSFbWpWW7-",
        "outputId": "43138870-788c-4a79-eac9-590de59d456e"
      },
      "execution_count": 44,
      "outputs": [
        {
          "output_type": "execute_result",
          "data": {
            "text/plain": [
              "'Car'"
            ],
            "application/vnd.google.colaboratory.intrinsic+json": {
              "type": "string"
            }
          },
          "metadata": {},
          "execution_count": 44
        }
      ]
    },
    {
      "cell_type": "code",
      "source": [
        "#4 Demonstrate polymorphism by creating a base class Bird with a method fly(). Create two derived classes Sparrow and Penguin that override the fly() method.\n",
        "\n",
        "class Bird:\n",
        "    def fly(self):\n",
        "        print(\"Bird is flying\")\n",
        "\n",
        "class Sparrow(Bird):\n",
        "    def fly(self):\n",
        "        print(\"Sparrow is flying\")\n",
        "\n",
        "class Penguin(Bird):\n",
        "    def fly(self):\n",
        "        print(\"Penguin is not flying\")"
      ],
      "metadata": {
        "id": "iHSH5X_bJzKY"
      },
      "execution_count": 8,
      "outputs": []
    },
    {
      "cell_type": "code",
      "source": [
        "obj1 = Sparrow()\n",
        "obj1.fly()"
      ],
      "metadata": {
        "colab": {
          "base_uri": "https://localhost:8080/"
        },
        "id": "Yl1fRGgPJ7mc",
        "outputId": "46ff0588-5717-447e-a171-17b2abfa4bd0"
      },
      "execution_count": 9,
      "outputs": [
        {
          "output_type": "stream",
          "name": "stdout",
          "text": [
            "Sparrow is flying\n"
          ]
        }
      ]
    },
    {
      "cell_type": "code",
      "source": [
        "#5  Write a program to demonstrate encapsulation by creating a class BankAccount with private attributes balance and methods to deposit, withdraw, and check balance.\n",
        "\n",
        "class BankAccount:\n",
        "   def __init__(self, initial_balance=0):\n",
        "        self.__balance = initial_balance\n",
        "\n",
        "   def deposit(self, amount):\n",
        "        if amount > 0:\n",
        "            self.__balance += amount\n",
        "            print(f\"Deposited: {amount}. New balance: {self.__balance}\")\n",
        "        else:\n",
        "            print(\"Deposit amount must be positive.\")\n",
        "\n",
        "   def withdraw(self, amount):\n",
        "        if 0 < amount <= self.__balance:\n",
        "            self.__balance -= amount\n",
        "            print(f\"Withdrew: {amount}. New balance: {self.__balance}\")\n",
        "        elif amount > self.__balance:\n",
        "            print(\"Insufficient funds.\")\n",
        "        else:\n",
        "            print(\"Withdrawal amount must be positive.\")\n",
        "\n",
        "   def check_balance(self):\n",
        "        return self.__balance"
      ],
      "metadata": {
        "id": "ac40Ar-KKFwM"
      },
      "execution_count": 52,
      "outputs": []
    },
    {
      "cell_type": "code",
      "source": [
        "obj = BankAccount(100)\n",
        "obj.deposit(50)"
      ],
      "metadata": {
        "colab": {
          "base_uri": "https://localhost:8080/"
        },
        "id": "uFnx5k6wWpR6",
        "outputId": "9ba17239-e851-4d29-afff-8d9cc4f9fb1b"
      },
      "execution_count": 53,
      "outputs": [
        {
          "output_type": "stream",
          "name": "stdout",
          "text": [
            "Deposited: 50. New balance: 150\n"
          ]
        }
      ]
    },
    {
      "cell_type": "code",
      "source": [
        "#6 Demonstrate runtime polymorphism using a method play() in a base class Instrument. Derive classes Guitar and Piano that implement their own version of play().\n",
        "\n",
        "class Instrument:\n",
        "    def play(self):\n",
        "        print(\"Instrument is playing\")\n",
        "\n",
        "class Guitar(Instrument):\n",
        "    def play(self):\n",
        "        print(\"Guitar is playing\")\n",
        "\n",
        "class Piano(Instrument):\n",
        "    def play(self):\n",
        "        print(\"Piano is playing\")"
      ],
      "metadata": {
        "id": "yOu2kIPpLXh-"
      },
      "execution_count": 13,
      "outputs": []
    },
    {
      "cell_type": "code",
      "source": [
        "obj1 = Guitar()\n",
        "obj1.play"
      ],
      "metadata": {
        "colab": {
          "base_uri": "https://localhost:8080/",
          "height": 103
        },
        "id": "a_NzV9q-Lmq6",
        "outputId": "159efe96-e647-4190-8691-d5e766674a4e"
      },
      "execution_count": 15,
      "outputs": [
        {
          "output_type": "execute_result",
          "data": {
            "text/plain": [
              "<bound method Guitar.play of <__main__.Guitar object at 0x7f94fc5ccb90>>"
            ],
            "text/html": [
              "<div style=\"max-width:800px; border: 1px solid var(--colab-border-color);\"><style>\n",
              "      pre.function-repr-contents {\n",
              "        overflow-x: auto;\n",
              "        padding: 8px 12px;\n",
              "        max-height: 500px;\n",
              "      }\n",
              "\n",
              "      pre.function-repr-contents.function-repr-contents-collapsed {\n",
              "        cursor: pointer;\n",
              "        max-height: 100px;\n",
              "      }\n",
              "    </style>\n",
              "    <pre style=\"white-space: initial; background:\n",
              "         var(--colab-secondary-surface-color); padding: 8px 12px;\n",
              "         border-bottom: 1px solid var(--colab-border-color);\"><b>Guitar.play</b><br/>def play()</pre><pre class=\"function-repr-contents function-repr-contents-collapsed\" style=\"\"><a class=\"filepath\" style=\"display:none\" href=\"#\">/content/&lt;ipython-input-13-8163b912356a&gt;</a>&lt;no docstring&gt;</pre></div>"
            ]
          },
          "metadata": {},
          "execution_count": 15
        }
      ]
    },
    {
      "cell_type": "code",
      "source": [
        "#7  Create a class MathOperations with a class method add_numbers() to add two numbers and a static method subtract_numbers() to subtract two numbers.\n",
        "\n",
        "class MathOperations:\n",
        "    @classmethod\n",
        "    def add_numbers(cls, a, b):\n",
        "        return a + b\n",
        "\n",
        "    @staticmethod\n",
        "    def subtract_numbers(a, b):\n",
        "        return a - b"
      ],
      "metadata": {
        "id": "T-P0M_M4L8tt"
      },
      "execution_count": 16,
      "outputs": []
    },
    {
      "cell_type": "code",
      "source": [
        "obj1 = MathOperations()\n",
        "obj1.add_numbers(2,3)"
      ],
      "metadata": {
        "colab": {
          "base_uri": "https://localhost:8080/"
        },
        "id": "y1lt05wSMDCE",
        "outputId": "f132db52-8c2f-44a5-bbe1-f2adec77f20a"
      },
      "execution_count": 17,
      "outputs": [
        {
          "output_type": "execute_result",
          "data": {
            "text/plain": [
              "5"
            ]
          },
          "metadata": {},
          "execution_count": 17
        }
      ]
    },
    {
      "cell_type": "code",
      "source": [
        "obj1 = MathOperations()\n",
        "obj1.subtract_numbers(2,3)"
      ],
      "metadata": {
        "colab": {
          "base_uri": "https://localhost:8080/"
        },
        "id": "3mNsQcVdMG4M",
        "outputId": "385f0d9f-8258-4088-a86a-a0327c12fd4c"
      },
      "execution_count": 18,
      "outputs": [
        {
          "output_type": "execute_result",
          "data": {
            "text/plain": [
              "-1"
            ]
          },
          "metadata": {},
          "execution_count": 18
        }
      ]
    },
    {
      "cell_type": "code",
      "source": [
        "#8 Implement a class Person with a class method to count the total number of persons created.\n",
        "\n",
        "class Person:\n",
        "    count = 0\n",
        "\n",
        "    def __init__(self):\n",
        "        Person.count += 1\n",
        "\n",
        "    @classmethod\n",
        "    def get_count(cls):\n",
        "        return cls.count"
      ],
      "metadata": {
        "id": "Hoy5N96hMO0b"
      },
      "execution_count": 19,
      "outputs": []
    },
    {
      "cell_type": "code",
      "source": [
        "obj = Person()\n",
        "obj.get_count()"
      ],
      "metadata": {
        "colab": {
          "base_uri": "https://localhost:8080/"
        },
        "id": "qfEvTSEVMVYz",
        "outputId": "0d5d93fa-c301-4da7-f7d3-a2a7e3ba8a4b"
      },
      "execution_count": 25,
      "outputs": [
        {
          "output_type": "execute_result",
          "data": {
            "text/plain": [
              "5"
            ]
          },
          "metadata": {},
          "execution_count": 25
        }
      ]
    },
    {
      "cell_type": "code",
      "source": [
        "#9  Write a class Fraction with attributes numerator and denominator. Override the str method to display the fraction as \"numerator/denominator\".\n",
        "\n",
        "class Fraction:\n",
        "    def __init__(self, numerator, denominator):\n",
        "        self.numerator = numerator\n",
        "        self.denominator = denominator\n",
        "\n",
        "    def __str__(self):\n",
        "        return f\"{self.numerator}/{self.denominator}\""
      ],
      "metadata": {
        "id": "y80cB4X6MoF-"
      },
      "execution_count": 26,
      "outputs": []
    },
    {
      "cell_type": "code",
      "source": [
        "obj = Fraction(2,3)\n",
        "print(obj)"
      ],
      "metadata": {
        "colab": {
          "base_uri": "https://localhost:8080/"
        },
        "id": "TP_PUD3VMwc3",
        "outputId": "c4168d46-39f0-4721-e10c-cf9ecc685e8f"
      },
      "execution_count": 27,
      "outputs": [
        {
          "output_type": "stream",
          "name": "stdout",
          "text": [
            "2/3\n"
          ]
        }
      ]
    },
    {
      "cell_type": "code",
      "source": [
        "#10 Demonstrate operator overloading by creating a class Vector and overriding the add method to add two vectors.\n",
        "\n",
        "class Vector:\n",
        "    def __init__(self, x, y):\n",
        "        self.x = x\n",
        "        self.y = y\n",
        "\n",
        "    def __add__(self, other):\n",
        "        return Vector(self.x + other.x, self.y + other.y)"
      ],
      "metadata": {
        "id": "7_kTu8drM4rv"
      },
      "execution_count": 28,
      "outputs": []
    },
    {
      "cell_type": "code",
      "source": [
        "obj = Vector(2,3)\n",
        "obj1 = Vector(3,4)\n",
        "obj + obj1"
      ],
      "metadata": {
        "colab": {
          "base_uri": "https://localhost:8080/"
        },
        "id": "okTMOciXM_Ez",
        "outputId": "76005856-9854-4d8b-a128-8f0ccce3a9b5"
      },
      "execution_count": 30,
      "outputs": [
        {
          "output_type": "execute_result",
          "data": {
            "text/plain": [
              "<__main__.Vector at 0x7f94fc5ce010>"
            ]
          },
          "metadata": {},
          "execution_count": 30
        }
      ]
    },
    {
      "cell_type": "code",
      "source": [
        "#11  Create a class Person with attributes name and age. Add a method greet() that prints \"Hello, my name is {name} and I am {age} years old.\"\n",
        "\n",
        "class Person:\n",
        "    def __init__(self, name, age):\n",
        "        self.name = name\n",
        "        self.age = age\n",
        "\n",
        "    def greet(self):\n",
        "        print(f\"Hello, my name is {self.name} and I am {self.age} years old.\")"
      ],
      "metadata": {
        "id": "4mCGMCEuNGS4"
      },
      "execution_count": 31,
      "outputs": []
    },
    {
      "cell_type": "code",
      "source": [
        "obj = Person(\"John\", 25)\n",
        "obj.greet()"
      ],
      "metadata": {
        "colab": {
          "base_uri": "https://localhost:8080/"
        },
        "id": "ErbQFdpDNPqx",
        "outputId": "858e45dd-a00a-4d74-dfd2-2927cfc1db57"
      },
      "execution_count": 32,
      "outputs": [
        {
          "output_type": "stream",
          "name": "stdout",
          "text": [
            "Hello, my name is John and I am 25 years old.\n"
          ]
        }
      ]
    },
    {
      "cell_type": "code",
      "source": [
        "#12  Implement a class Student with attributes name and grades. Create a method average_grade() to compute the average of the grades.\n",
        "\n",
        "class Student:\n",
        "    def __init__(self, name, grades):\n",
        "        self.name = name\n",
        "        self.grades = grades\n",
        "\n",
        "    def average_grade(self):\n",
        "        return sum(self.grades) / len(self.grades)"
      ],
      "metadata": {
        "id": "vjzntexzNS4h"
      },
      "execution_count": 33,
      "outputs": []
    },
    {
      "cell_type": "code",
      "source": [
        "obj = Student(\"John\", [80, 90, 75])\n",
        "obj.average_grade()"
      ],
      "metadata": {
        "colab": {
          "base_uri": "https://localhost:8080/"
        },
        "id": "lvhoPmRyNaEN",
        "outputId": "9ef7b31f-b23d-444b-f0f2-e118d1ae106a"
      },
      "execution_count": 34,
      "outputs": [
        {
          "output_type": "execute_result",
          "data": {
            "text/plain": [
              "81.66666666666667"
            ]
          },
          "metadata": {},
          "execution_count": 34
        }
      ]
    },
    {
      "cell_type": "code",
      "source": [
        "#13 Create a class Rectangle with methods set_dimensions() to set the dimensions and area() to calculate the area.\n",
        "\n",
        "class Rectangle:\n",
        "    def __init__(self, length, width):\n",
        "        self.length = length\n",
        "        self.width = width\n",
        "\n",
        "    def calculate_area(self):\n",
        "        return self.length * self.width"
      ],
      "metadata": {
        "id": "6n2LveIYNdDG"
      },
      "execution_count": 37,
      "outputs": []
    },
    {
      "cell_type": "code",
      "source": [
        "obj = Rectangle(2,3)\n",
        "obj.calculate_area()"
      ],
      "metadata": {
        "colab": {
          "base_uri": "https://localhost:8080/"
        },
        "id": "7lIXKjGJNkLE",
        "outputId": "c7aad117-d867-4c89-b701-22e07a713dbe"
      },
      "execution_count": 39,
      "outputs": [
        {
          "output_type": "execute_result",
          "data": {
            "text/plain": [
              "6"
            ]
          },
          "metadata": {},
          "execution_count": 39
        }
      ]
    },
    {
      "cell_type": "code",
      "source": [
        "#14 Create a class Employee with a method calculate_salary() that computes the salary based on hours worked and hourly rate. Create a derived class Manager that adds a bonus to the salary.\n",
        "\n",
        "class Employee:\n",
        "    def __init__(self, name, hours_worked, hourly_rate):\n",
        "        self.name = name\n",
        "        self.hours_worked = hours_worked\n",
        "        self.hourly_rate = hourly_rate\n",
        "\n",
        "    def calculate_salary(self):\n",
        "        return self.hours_worked * self.hourly_rate\n",
        "\n",
        "class Manager(Employee):\n",
        "    def __init__(self, name, hours_worked, hourly_rate, bonus):\n",
        "        super().__init__(name, hours_worked, hourly_rate)\n",
        "        self.bonus = bonus\n",
        "\n",
        "    def calculate_salary(self):\n",
        "        base_salary = super().calculate_salary()\n",
        "        return base_salary + self.bonus"
      ],
      "metadata": {
        "id": "wzOSgpCVOcwA"
      },
      "execution_count": 54,
      "outputs": []
    },
    {
      "cell_type": "code",
      "source": [
        "emp1 = Employee(\"John\", 40, 20)\n",
        "emp1.calculate_salary()"
      ],
      "metadata": {
        "colab": {
          "base_uri": "https://localhost:8080/"
        },
        "id": "yPD3E5zNXrsW",
        "outputId": "23d0f82c-8694-4f1b-a13a-2deff3f37a5d"
      },
      "execution_count": 55,
      "outputs": [
        {
          "output_type": "execute_result",
          "data": {
            "text/plain": [
              "800"
            ]
          },
          "metadata": {},
          "execution_count": 55
        }
      ]
    },
    {
      "cell_type": "code",
      "source": [
        "#15 Create a class Product with attributes name, price, and quantity. Implement a method total_price() that calculates the total price of the product.\n",
        "\n",
        "class Product:\n",
        "    def __init__(self, name, price, quantity):\n",
        "        self.name = name\n",
        "        self.price = price\n",
        "        self.quantity = quantity\n",
        "\n",
        "    def total_price(self):\n",
        "        return self.price * self.quantity\n",
        "\n"
      ],
      "metadata": {
        "id": "9bikUZGZPN1X"
      },
      "execution_count": 41,
      "outputs": []
    },
    {
      "cell_type": "code",
      "source": [
        "obj = Product(\"Apple\", 2, 3)\n",
        "obj.total_price()"
      ],
      "metadata": {
        "colab": {
          "base_uri": "https://localhost:8080/"
        },
        "id": "gPCkIMJXPUSU",
        "outputId": "00834d15-e60d-4712-e9b1-27e09a965da6"
      },
      "execution_count": 42,
      "outputs": [
        {
          "output_type": "execute_result",
          "data": {
            "text/plain": [
              "6"
            ]
          },
          "metadata": {},
          "execution_count": 42
        }
      ]
    },
    {
      "cell_type": "code",
      "source": [
        "#16  Create a class Animal with an abstract method sound(). Create two derived classes Cow and Sheep that implement the sound() method.\n",
        "\n",
        "from abc import ABC, abstractmethod\n",
        "\n",
        "class Animal(ABC):\n",
        "    @abstractmethod\n",
        "    def sound(self):\n",
        "        pass\n",
        "\n",
        "class Cow(Animal):\n",
        "    def sound(self):\n",
        "        print(\"Moo\")\n",
        "\n",
        "class Sheep(Animal):\n",
        "    def sound(self):\n",
        "        print(\"Baa\")\n"
      ],
      "metadata": {
        "id": "0zdBMSGKPhSS"
      },
      "execution_count": 60,
      "outputs": []
    },
    {
      "cell_type": "code",
      "source": [
        "obj = Cow()\n",
        "obj.sound()"
      ],
      "metadata": {
        "colab": {
          "base_uri": "https://localhost:8080/"
        },
        "id": "3S1JgUJrYpCR",
        "outputId": "a3a84e96-bb92-4767-e8c9-67d11577b6fe"
      },
      "execution_count": 61,
      "outputs": [
        {
          "output_type": "stream",
          "name": "stdout",
          "text": [
            "Moo\n"
          ]
        }
      ]
    },
    {
      "cell_type": "code",
      "source": [
        "#17 Create a class Book with attributes title, author, and year_published. Add a method get_book_info() that returns a formatted string with the book's details.\n",
        "\n",
        "class Book:\n",
        "    def __init__(self, title, author, year_published):\n",
        "        self.title = title\n",
        "        self.author = author\n",
        "        self.year_published = year_published\n",
        "\n",
        "    def get_book_info(self):\n",
        "        return f\"Title: {self.title}, Author: {self.author}, Published: {self.year_published}\"\n",
        ""
      ],
      "metadata": {
        "id": "4pmLLZFoPtCP"
      },
      "execution_count": 56,
      "outputs": []
    },
    {
      "cell_type": "code",
      "source": [
        "my_book = Book(\"The Great Gatsby\", \"F. Scott Fitzgerald\", 1925)\n",
        "print(my_book.get_book_info())"
      ],
      "metadata": {
        "colab": {
          "base_uri": "https://localhost:8080/"
        },
        "id": "HdXd4cqxYCiU",
        "outputId": "112583c0-fa64-4862-cf84-2e98bcde37bb"
      },
      "execution_count": 57,
      "outputs": [
        {
          "output_type": "stream",
          "name": "stdout",
          "text": [
            "Title: The Great Gatsby, Author: F. Scott Fitzgerald, Published: 1925\n"
          ]
        }
      ]
    },
    {
      "cell_type": "code",
      "source": [
        "#18  Create a class House with attributes address and price. Create a derived class Mansion that adds an attribute number_of_rooms.\n",
        "\n",
        "class House:\n",
        "    def __init__(self, address, price):\n",
        "        self.address = address\n",
        "        self.price = price\n",
        "\n",
        "class Mansion(House):\n",
        "    def __init__(self, address, price, number_of_rooms):\n",
        "        super().__init__(address, price)\n",
        "        self.number_of_rooms = number_of_rooms"
      ],
      "metadata": {
        "id": "CWVblS-3QA0Q"
      },
      "execution_count": 58,
      "outputs": []
    },
    {
      "cell_type": "code",
      "source": [
        "h1 = House(\"123 Main St\", 250000)\n",
        "print(h1.address)"
      ],
      "metadata": {
        "colab": {
          "base_uri": "https://localhost:8080/"
        },
        "id": "Vc4r-JH0YVSV",
        "outputId": "bbc58fc8-edb5-4ac7-d6ec-9f78163bfea6"
      },
      "execution_count": 59,
      "outputs": [
        {
          "output_type": "stream",
          "name": "stdout",
          "text": [
            "123 Main St\n"
          ]
        }
      ]
    }
  ]
}